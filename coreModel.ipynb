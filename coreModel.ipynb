{
  "nbformat": 4,
  "nbformat_minor": 0,
  "metadata": {
    "colab": {
      "name": "coreModel.ipynb",
      "provenance": [],
      "authorship_tag": "ABX9TyMNo3iaHrqPrWjMONxt2rgx",
      "include_colab_link": true
    },
    "kernelspec": {
      "name": "python3",
      "display_name": "Python 3"
    }
  },
  "cells": [
    {
      "cell_type": "markdown",
      "metadata": {
        "id": "view-in-github",
        "colab_type": "text"
      },
      "source": [
        "<a href=\"https://colab.research.google.com/github/Quillbolt/test-model-for-ml/blob/master/coreModel.ipynb\" target=\"_parent\"><img src=\"https://colab.research.google.com/assets/colab-badge.svg\" alt=\"Open In Colab\"/></a>"
      ]
    },
    {
      "cell_type": "code",
      "metadata": {
        "colab_type": "code",
        "id": "NeWVBhf1VxlH",
        "colab": {
          "base_uri": "https://localhost:8080/",
          "height": 34
        },
        "outputId": "6dfbfde8-ab65-4047-cd5a-073995f2a696"
      },
      "source": [
        "%tensorflow_version 1.x\n",
        "import tensorflow\n",
        "print(tensorflow.__version__)"
      ],
      "execution_count": null,
      "outputs": [
        {
          "output_type": "stream",
          "text": [
            "1.15.2\n"
          ],
          "name": "stdout"
        }
      ]
    },
    {
      "cell_type": "code",
      "metadata": {
        "id": "rtUFpggu5JQx",
        "colab_type": "code",
        "colab": {}
      },
      "source": [
        "import datetime as dt\n",
        "\n",
        "class Timer():\n",
        "\n",
        "\tdef __init__(self):\n",
        "\t\tself.start_dt = None\n",
        "\n",
        "\tdef start(self):\n",
        "\t\tself.start_dt = dt.datetime.now()\n",
        "\n",
        "\tdef stop(self):\n",
        "\t\tend_dt = dt.datetime.now()\n",
        "\t\tprint('Time taken: %s' % (end_dt - self.start_dt))"
      ],
      "execution_count": null,
      "outputs": []
    },
    {
      "cell_type": "code",
      "metadata": {
        "id": "WTtk12eF4UAp",
        "colab_type": "code",
        "colab": {
          "base_uri": "https://localhost:8080/",
          "height": 34
        },
        "outputId": "0f31ba05-e170-4dba-b7a6-792d0c3e2159"
      },
      "source": [
        "import os\n",
        "import math\n",
        "import numpy as np\n",
        "import datetime as dt\n",
        "from numpy import newaxis\n",
        "from keras.layers import Dense, Activation, Dropout, LSTM\n",
        "from keras.models import Sequential, load_model\n",
        "from keras.callbacks import EarlyStopping, ModelCheckpoint"
      ],
      "execution_count": null,
      "outputs": [
        {
          "output_type": "stream",
          "text": [
            "Using TensorFlow backend.\n"
          ],
          "name": "stderr"
        }
      ]
    },
    {
      "cell_type": "code",
      "metadata": {
        "id": "jVNblmmm4U-K",
        "colab_type": "code",
        "colab": {}
      },
      "source": [
        "class Model():\n",
        "  def __init__(self):\n",
        "    self.model = Sequential()\n",
        "  \n",
        "  def load_model(self, filepath):\n",
        "    print('[Model] Loading model from file %s' % filepath)\n",
        "    self.model = load_model(filepath)\n",
        "  def build_model(self, configs):\n",
        "    timer = Timer()\n",
        "    timer.start()\n",
        "    \n",
        "    for layer in configs['model']['layers']:\n",
        "      neurons = layer['neurons'] if 'neurons' in layer else None\n",
        "      dropout_rate = layer['rate'] if 'rate' in layer else None\n",
        "      activation = layer['activation'] if 'activation' in layer else None\n",
        "      return_seq = layer['return_seq'] if 'return_seq' in layer else None\n",
        "      input_timesteps = layer['input_timesteps'] if 'input_timesteps' in layer else None\n",
        "      input_dim = layer['input_dim'] if 'input_dim' in layer else None\n",
        "\n",
        "      if layer['type'] == 'dense':\n",
        "        self.model.add(Dense(neurons, activation=activation))\n",
        "      if layer['type'] == 'lstm':\n",
        "        self.model.add(LSTM(neurons, input_shape=(input_timesteps, input_dim), return_sequences=return_seq))\n",
        "      if layer['type'] == 'dropout':\n",
        "        self.model.add(Dropout(dropout_rate))\n",
        "\n",
        "    self.model.compile(loss=configs['model']['loss'], optimizer=configs['model']['optimizer'])\n",
        "\n",
        "    print('[Model] Model Compiled')\n",
        "    timer.stop()\n",
        "    def train(self, x, y, epochs, batch_size, save_dir):\n",
        "      timer = Timer()\n",
        "      timer.start()\n",
        "      print('[Model] Training Started')\n",
        "      print('[Model] %s epochs, %s batch size' % (epochs, batch_size))\n",
        "\t\t\n",
        "    save_fname = os.path.join(save_dir, '%s-e%s.h5' % (dt.datetime.now().strftime('%d%m%Y-%H%M%S'), str(epochs)))\n",
        "    callbacks = [\n",
        "      EarlyStopping(monitor='val_loss', patience=2),\n",
        "      ModelCheckpoint(filepath=save_fname, monitor='val_loss', save_best_only=True)\n",
        "\t\t]\n",
        "    self.model.fit(\n",
        "\t\t\tx,\n",
        "\t\t\ty,\n",
        "\t\t\tepochs=epochs,\n",
        "\t\t\tbatch_size=batch_size,\n",
        "\t\t\tcallbacks=callbacks\n",
        "\t\t)\n",
        "    self.model.save(save_fname)\n",
        "\n",
        "    print('[Model] Training Completed. Model saved as %s' % save_fname)\n",
        "    timer.stop()\n",
        "\n",
        "  def train_generator(self, data_gen, epochs, batch_size, steps_per_epoch, save_dir):\n",
        "    timer = Timer()\n",
        "    timer.start()\n",
        "    print('[Model] Training Started')\n",
        "    print('[Model] %s epochs, %s batch size, %s batches per epoch' % (epochs, batch_size, steps_per_epoch))\n",
        "\t\t\n",
        "    save_fname = os.path.join(save_dir, '%s-e%s.h5' % (dt.datetime.now().strftime('%d%m%Y-%H%M%S'), str(epochs)))\n",
        "    callbacks = [\n",
        "      ModelCheckpoint(filepath=save_fname, monitor='loss', save_best_only=True)\n",
        "\t\t]\n",
        "    self.model.fit_generator(\n",
        "\t\t\tdata_gen,\n",
        "\t\t\tsteps_per_epoch=steps_per_epoch,\n",
        "\t\t\tepochs=epochs,\n",
        "\t\t\tcallbacks=callbacks,\n",
        "\t\t\tworkers=1\n",
        "\t\t)\n",
        "\t\t\n",
        "    print('[Model] Training Completed. Model saved as %s' % save_fname)\n",
        "    timer.stop()\n",
        " \n",
        "  def predict_point_by_point(self, data):\n",
        "\t\t#Predict each timestep given the last sequence of true data, in effect only predicting 1 step ahead each time\n",
        "    print('[Model] Predicting Point-by-Point...')\n",
        "    predicted = self.model.predict(data)\n",
        "    predicted = np.reshape(predicted, (predicted.size,))\n",
        "    return predicted\n",
        "\n",
        "  def predict_sequences_multiple(self, data, window_size, prediction_len):\n",
        "\t\t#Predict sequence of 50 steps before shifting prediction run forward by 50 steps\n",
        "    print('[Model] Predicting Sequences Multiple...')\n",
        "    prediction_seqs = []\n",
        "    for i in range(int(len(data)/prediction_len)):\n",
        "      curr_frame = data[i*prediction_len]\n",
        "      predicted = []\n",
        "    for j in range(prediction_len):\n",
        "      predicted.append(self.model.predict(curr_frame[newaxis,:,:])[0,0])\n",
        "      curr_frame = curr_frame[1:]\n",
        "      curr_frame = np.insert(curr_frame, [window_size-2], predicted[-1], axis=0)\n",
        "      prediction_seqs.append(predicted)\n",
        "    return prediction_seqs\n",
        "\n",
        "  def predict_sequence_full(self, data, window_size):\n",
        "\t\t#Shift the window by 1 new prediction each time, re-run predictions on new window\n",
        "    print('[Model] Predicting Sequences Full...')\n",
        "    curr_frame = data[0]\n",
        "    predicted = []\n",
        "    for i in range(len(data)):\n",
        "      predicted.append(self.model.predict(curr_frame[newaxis,:,:])[0,0])\n",
        "      curr_frame = curr_frame[1:]\n",
        "      curr_frame = np.insert(curr_frame, [window_size-2], predicted[-1], axis=0)\n",
        "    return predicted"
      ],
      "execution_count": null,
      "outputs": []
    },
    {
      "cell_type": "code",
      "metadata": {
        "id": "bsTblxni4f7q",
        "colab_type": "code",
        "colab": {}
      },
      "source": [
        "\n"
      ],
      "execution_count": null,
      "outputs": []
    }
  ]
}